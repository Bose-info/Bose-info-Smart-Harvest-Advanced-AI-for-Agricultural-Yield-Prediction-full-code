{
 "cells": [
  {
   "cell_type": "code",
   "execution_count": 15,
   "metadata": {},
   "outputs": [
    {
     "name": "stdout",
     "output_type": "stream",
     "text": [
      " * Serving Flask app '__main__'\n",
      " * Debug mode: on\n"
     ]
    },
    {
     "name": "stderr",
     "output_type": "stream",
     "text": [
      "WARNING: This is a development server. Do not use it in a production deployment. Use a production WSGI server instead.\n",
      " * Running on http://127.0.0.1:5000\n",
      "Press CTRL+C to quit\n",
      "127.0.0.1 - - [22/Feb/2025 10:39:49] \"GET / HTTP/1.1\" 200 -\n",
      "C:\\Users\\boses\\AppData\\Local\\Packages\\PythonSoftwareFoundation.Python.3.10_qbz5n2kfra8p0\\LocalCache\\local-packages\\Python310\\site-packages\\sklearn\\base.py:493: UserWarning: X does not have valid feature names, but RandomForestClassifier was fitted with feature names\n",
      "  warnings.warn(\n",
      "127.0.0.1 - - [22/Feb/2025 10:39:55] \"POST / HTTP/1.1\" 200 -\n",
      "C:\\Users\\boses\\AppData\\Local\\Packages\\PythonSoftwareFoundation.Python.3.10_qbz5n2kfra8p0\\LocalCache\\local-packages\\Python310\\site-packages\\sklearn\\base.py:493: UserWarning: X does not have valid feature names, but RandomForestClassifier was fitted with feature names\n",
      "  warnings.warn(\n",
      "127.0.0.1 - - [22/Feb/2025 10:40:41] \"POST / HTTP/1.1\" 200 -\n"
     ]
    }
   ],
   "source": [
    "from flask import Flask, render_template, request\n",
    "import pickle\n",
    "import numpy as np\n",
    "\n",
    "# Load trained model\n",
    "model = pickle.load(open('classifier.pkl', 'rb'))\n",
    "\n",
    "app = Flask(__name__)\n",
    "\n",
    "# Encoding mappings for Soil Type and Crop Type\n",
    "soil_mapping = {\n",
    "    \"Sandy\": 0, \"Loamy\": 1, \"Black\": 2, \"Red\": 3, \"Clayey\": 4\n",
    "}\n",
    "\n",
    "crop_mapping = {\n",
    "    \"Maize\": 0, \"Sugarcane\": 1, \"Cotton\": 2, \"Tobacco\": 3,\n",
    "    \"Paddy\": 4, \"Barley\": 5, \"Wheat\": 6\n",
    "}\n",
    "\n",
    "fertilizer_mapping = {\n",
    "    0: \"10-26-26\", 1: \"14-35-14\", 2: \"17-17-17\",\n",
    "    3: \"20-20\", 4: \"28-28\", 5: \"DAP\", 6: \"Urea\"\n",
    "}\n",
    "\n",
    "@app.route('/', methods=['GET', 'POST'])\n",
    "def home():\n",
    "    fertilizer_result = None  # Default no result\n",
    "    \n",
    "    if request.method == 'POST':\n",
    "        try:\n",
    "            # Get form data\n",
    "            temp = float(request.form['temperature'])\n",
    "            humidity = float(request.form['humidity'])\n",
    "            moisture = float(request.form['moisture'])\n",
    "            soil = request.form['soil_type']\n",
    "            crop = request.form['crop_type']\n",
    "            nitrogen = float(request.form['nitrogen'])\n",
    "            potassium = float(request.form['potassium'])\n",
    "            phosphorus = float(request.form['phosphorus'])\n",
    "\n",
    "            # Convert categorical inputs\n",
    "            soil_encoded = soil_mapping.get(soil, -1)\n",
    "            crop_encoded = crop_mapping.get(crop, -1)\n",
    "\n",
    "            # Model prediction\n",
    "            features = np.array([[temp, humidity, moisture, soil_encoded, crop_encoded, nitrogen, potassium, phosphorus]])\n",
    "            prediction = model.predict(features)[0]\n",
    "\n",
    "            # Get fertilizer name\n",
    "            fertilizer_result = fertilizer_mapping.get(prediction, \"Unknown\")\n",
    "\n",
    "        except Exception as e:\n",
    "            fertilizer_result = f\"Error: {str(e)}\"\n",
    "\n",
    "    return render_template('index.html', soils=soil_mapping.keys(), crops=crop_mapping.keys(), result=fertilizer_result)\n",
    "\n",
    "\n",
    "\n",
    "\n",
    "\n",
    "\n",
    "\n",
    "if __name__ == '__main__':\n",
    "    import os\n",
    "    if 'ipykernel' in os.environ.get('JPY_PARENT_PID', ''):\n",
    "        app.run(debug=True)\n",
    "    else:\n",
    "        app.run(debug=True, use_reloader=False)\n"
   ]
  }
 ],
 "metadata": {
  "kernelspec": {
   "display_name": "Python 3",
   "language": "python",
   "name": "python3"
  },
  "language_info": {
   "codemirror_mode": {
    "name": "ipython",
    "version": 3
   },
   "file_extension": ".py",
   "mimetype": "text/x-python",
   "name": "python",
   "nbconvert_exporter": "python",
   "pygments_lexer": "ipython3",
   "version": "3.10.11"
  }
 },
 "nbformat": 4,
 "nbformat_minor": 2
}
