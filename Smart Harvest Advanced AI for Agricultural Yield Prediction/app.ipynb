{
 "cells": [
  {
   "cell_type": "code",
   "execution_count": 7,
   "metadata": {},
   "outputs": [
    {
     "name": "stdout",
     "output_type": "stream",
     "text": [
      " * Serving Flask app '__main__'\n",
      " * Debug mode: on\n"
     ]
    },
    {
     "name": "stderr",
     "output_type": "stream",
     "text": [
      "WARNING: This is a development server. Do not use it in a production deployment. Use a production WSGI server instead.\n",
      " * Running on http://127.0.0.1:5000\n",
      "Press CTRL+C to quit\n",
      "127.0.0.1 - - [30/Aug/2024 20:36:30] \"GET / HTTP/1.1\" 200 -\n",
      "C:\\Users\\DELL\\AppData\\Local\\Packages\\PythonSoftwareFoundation.Python.3.12_qbz5n2kfra8p0\\LocalCache\\local-packages\\Python312\\site-packages\\sklearn\\base.py:493: UserWarning: X does not have valid feature names, but StandardScaler was fitted with feature names\n",
      "  warnings.warn(\n",
      "127.0.0.1 - - [30/Aug/2024 20:36:48] \"POST / HTTP/1.1\" 200 -\n",
      "C:\\Users\\DELL\\AppData\\Local\\Packages\\PythonSoftwareFoundation.Python.3.12_qbz5n2kfra8p0\\LocalCache\\local-packages\\Python312\\site-packages\\sklearn\\base.py:493: UserWarning: X does not have valid feature names, but StandardScaler was fitted with feature names\n",
      "  warnings.warn(\n",
      "127.0.0.1 - - [30/Aug/2024 20:37:58] \"POST / HTTP/1.1\" 200 -\n",
      "127.0.0.1 - - [30/Aug/2024 20:37:58] \"GET /static/favicon.ico HTTP/1.1\" 304 -\n",
      "C:\\Users\\DELL\\AppData\\Local\\Packages\\PythonSoftwareFoundation.Python.3.12_qbz5n2kfra8p0\\LocalCache\\local-packages\\Python312\\site-packages\\sklearn\\base.py:493: UserWarning: X does not have valid feature names, but StandardScaler was fitted with feature names\n",
      "  warnings.warn(\n",
      "127.0.0.1 - - [30/Aug/2024 20:38:15] \"POST / HTTP/1.1\" 200 -\n",
      "C:\\Users\\DELL\\AppData\\Local\\Packages\\PythonSoftwareFoundation.Python.3.12_qbz5n2kfra8p0\\LocalCache\\local-packages\\Python312\\site-packages\\sklearn\\base.py:493: UserWarning: X does not have valid feature names, but StandardScaler was fitted with feature names\n",
      "  warnings.warn(\n",
      "127.0.0.1 - - [30/Aug/2024 20:38:54] \"POST / HTTP/1.1\" 200 -\n"
     ]
    }
   ],
   "source": [
    "from flask import Flask, request, render_template\n",
    "import pickle\n",
    "import numpy as np\n",
    "\n",
    "app = Flask(__name__)\n",
    "\n",
    "# Load the trained model and scaler\n",
    "with open('LogisticRegresion.pkl', 'rb') as model_file:\n",
    "    model = pickle.load(model_file)\n",
    "\n",
    "with open('scaler.pkl', 'rb') as scaler_file:\n",
    "    scaler = pickle.load(scaler_file)\n",
    "\n",
    "@app.route('/', methods=['GET', 'POST'])\n",
    "def index():\n",
    "    if request.method == 'POST':\n",
    "        # Get input data from the form\n",
    "        N = float(request.form['N'])\n",
    "        P = float(request.form['P'])\n",
    "        K = float(request.form['K'])\n",
    "        temperature = float(request.form['temperature'])\n",
    "        humidity = float(request.form['humidity'])\n",
    "        ph = float(request.form['ph'])\n",
    "        rainfall = float(request.form['rainfall'])\n",
    "\n",
    "        # Create a numpy array for the input data\n",
    "        input_data = np.array([[N, P, K, temperature, humidity, ph, rainfall]])\n",
    "\n",
    "        # Scale the input data\n",
    "        input_data_scaled = scaler.transform(input_data)\n",
    "\n",
    "        # Predict the crop label\n",
    "        prediction = model.predict(input_data_scaled)\n",
    "        crop_label = prediction[0]\n",
    "\n",
    "        return render_template('index.html', prediction=crop_label)\n",
    "\n",
    "    return render_template('index.html', prediction=None)\n",
    "\n",
    "if __name__ == '__main__':\n",
    "    import os\n",
    "    if 'ipykernel' in os.environ.get('JPY_PARENT_PID', ''):\n",
    "        app.run(debug=True)\n",
    "    else:\n",
    "        app.run(debug=True, use_reloader=False)\n"
   ]
  }
 ],
 "metadata": {
  "kernelspec": {
   "display_name": "Python 3",
   "language": "python",
   "name": "python3"
  },
  "language_info": {
   "codemirror_mode": {
    "name": "ipython",
    "version": 3
   },
   "file_extension": ".py",
   "mimetype": "text/x-python",
   "name": "python",
   "nbconvert_exporter": "python",
   "pygments_lexer": "ipython3",
   "version": "3.12.5"
  }
 },
 "nbformat": 4,
 "nbformat_minor": 2
}
