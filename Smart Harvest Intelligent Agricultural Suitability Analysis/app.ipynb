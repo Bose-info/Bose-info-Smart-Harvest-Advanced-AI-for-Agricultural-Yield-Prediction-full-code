{
 "cells": [
  {
   "cell_type": "code",
   "execution_count": 1,
   "metadata": {},
   "outputs": [],
   "source": [
    "from flask import Flask,request, render_template\n",
    "import numpy as np\n",
    "import pickle\n",
    "import sklearn\n",
    "print(sklearn.__version__)\n",
    "#loading models\n",
    "dtr = pickle.load(open('dtr.pkl','rb'))\n",
    "preprocessor = pickle.load(open('preprocessor.pkl','rb'))\n",
    "\n",
    "#flask app\n",
    "app = Flask(__name__)\n",
    "\n",
    "@app.route('/')\n",
    "def index():\n",
    "    return render_template('index.html')\n",
    "@app.route(\"/predict\",methods=['POST'])\n",
    "def predict():\n",
    "    if request.method == 'POST':\n",
    "        Year = request.form['Year']\n",
    "        average_rain_fall_mm_per_year = request.form['average_rain_fall_mm_per_year']\n",
    "        pesticides_tonnes = request.form['pesticides_tonnes']\n",
    "        avg_temp = request.form['avg_temp']\n",
    "        Area = request.form['Area']\n",
    "        Item = request.form['Item']\n",
    "\n",
    "        # Create the feature array\n",
    "        features = np.array([[Year, average_rain_fall_mm_per_year, pesticides_tonnes, avg_temp, Area, Item]], dtype=object)\n",
    "\n",
    "        # Transform features using the preprocessor\n",
    "        transformed_features = preprocessor.transform(features)\n",
    "\n",
    "        # Predict using the decision tree regressor\n",
    "        prediction = dtr.predict(transformed_features)\n",
    "\n",
    "        # Extract the scalar value from the NumPy array and format it\n",
    "        formatted_prediction = f\"{prediction.item():.2f} Hectograms per Hectare\"\n",
    "\n",
    "        return render_template('index.html', prediction=formatted_prediction)\n",
    "\n",
    "\n",
    "\n",
    "\n",
    "if __name__ == '__main__':\n",
    "    import os\n",
    "    if 'ipykernel' in os.environ.get('JPY_PARENT_PID', ''):\n",
    "        app.run(debug=True)\n",
    "    else:\n",
    "        app.run(debug=True, use_reloader=False)"
   ]
  }
 ],
 "metadata": {
  "kernelspec": {
   "display_name": "Python 3",
   "language": "python",
   "name": "python3"
  },
  "language_info": {
   "codemirror_mode": {
    "name": "ipython",
    "version": 3
   },
   "file_extension": ".py",
   "mimetype": "text/x-python",
   "name": "python",
   "nbconvert_exporter": "python",
   "pygments_lexer": "ipython3",
   "version": "3.12.5"
  }
 },
 "nbformat": 4,
 "nbformat_minor": 2
}
